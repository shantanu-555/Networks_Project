{
 "cells": [
  {
   "cell_type": "code",
   "execution_count": 1,
   "metadata": {},
   "outputs": [],
   "source": [
    "import networkx as nx\n",
    "import pandas as pd\n",
    "import matplotlib.pyplot as plt\n",
    "import plotly.express as px\n",
    "import random"
   ]
  },
  {
   "cell_type": "code",
   "execution_count": 68,
   "metadata": {},
   "outputs": [],
   "source": [
    "from auxiliaries import *\n",
    "\n",
    "random.seed(34)"
   ]
  },
  {
   "cell_type": "code",
   "execution_count": 47,
   "metadata": {},
   "outputs": [],
   "source": [
    "# types of routes\n",
    "types = {\n",
    "    0: \"tram\",\n",
    "    1: \"subway\",\n",
    "    2: \"rail\",\n",
    "    3: \"bus\",\n",
    "    4: \"ferry\",\n",
    "    5: \"walking\",\n",
    "}"
   ]
  },
  {
   "cell_type": "code",
   "execution_count": 48,
   "metadata": {},
   "outputs": [],
   "source": [
    "# read in public transport network of berlin\n",
    "berlin, berlin_nodes = read_in_network(\"berlin\", \"combined\")\n",
    "\n",
    "# read in walking network\n",
    "berlin_walking, nodes_t = read_in_network(\"berlin\", \"walk\")\n",
    "# rename d_walk column to duration_avg\n",
    "berlin_walking = berlin_walking.rename(columns={\"d_walk\": \"duration_avg\"})\n",
    "# add n_vehicles and route_I_counts columns, set both to 0\n",
    "berlin_walking[\"n_vehicles\"] = 0\n",
    "berlin_walking[\"route_I_counts\"] = 0\n",
    "# add route_type column, set to 5 (walking)\n",
    "berlin_walking[\"route_type\"] = 5\n",
    "\n",
    "# add berlin_walking to berlin\n",
    "berlin_full = pd.concat([berlin, berlin_walking], ignore_index=True)"
   ]
  },
  {
   "cell_type": "code",
   "execution_count": 49,
   "metadata": {},
   "outputs": [
    {
     "data": {
      "text/plain": [
       "route_type\n",
       "5    18125\n",
       "3    10208\n",
       "0      990\n",
       "2      507\n",
       "1      366\n",
       "4        8\n",
       "Name: count, dtype: int64"
      ]
     },
     "execution_count": 49,
     "metadata": {},
     "output_type": "execute_result"
    }
   ],
   "source": [
    "# count route_type counts in berlin_full\n",
    "berlin_full[\"route_type\"].value_counts()"
   ]
  },
  {
   "cell_type": "code",
   "execution_count": 50,
   "metadata": {},
   "outputs": [],
   "source": [
    "# drop all routes with route_type 4\n",
    "berlin_full = berlin_full[berlin_full[\"route_type\"] != 4]"
   ]
  },
  {
   "cell_type": "code",
   "execution_count": 51,
   "metadata": {},
   "outputs": [
    {
     "data": {
      "text/plain": [
       "route_type\n",
       "5    18125\n",
       "3    10208\n",
       "0      990\n",
       "2      507\n",
       "1      366\n",
       "Name: count, dtype: int64"
      ]
     },
     "execution_count": 51,
     "metadata": {},
     "output_type": "execute_result"
    }
   ],
   "source": [
    "berlin_full[\"route_type\"].value_counts()"
   ]
  },
  {
   "cell_type": "code",
   "execution_count": 52,
   "metadata": {},
   "outputs": [],
   "source": [
    "# convert to graph\n",
    "G = convert_to_graph(berlin_full)\n",
    "pos = add_positions(G, berlin_nodes)"
   ]
  },
  {
   "cell_type": "code",
   "execution_count": 53,
   "metadata": {},
   "outputs": [
    {
     "data": {
      "text/plain": [
       "{0: {'duration_avg': 120.0, 'route_type': 3},\n",
       " 1: {'duration_avg': 873.0, 'route_type': 5}}"
      ]
     },
     "execution_count": 53,
     "metadata": {},
     "output_type": "execute_result"
    }
   ],
   "source": [
    "G.get_edge_data(10924, 10920)"
   ]
  },
  {
   "cell_type": "code",
   "execution_count": 54,
   "metadata": {},
   "outputs": [
    {
     "data": {
      "text/plain": [
       "30196"
      ]
     },
     "execution_count": 54,
     "metadata": {},
     "output_type": "execute_result"
    }
   ],
   "source": [
    "len(G.edges())"
   ]
  },
  {
   "attachments": {},
   "cell_type": "markdown",
   "metadata": {},
   "source": [
    "## Connected component\n",
    "\n",
    "The Berlin network is not a connected component, but as we see below, the largest connected component is very large (only 8 nodes are not connected to it). Therefore we can just drop those few nodes and work only with the largest connected component."
   ]
  },
  {
   "cell_type": "code",
   "execution_count": 55,
   "metadata": {},
   "outputs": [
    {
     "data": {
      "text/plain": [
       "{10661, 10662}"
      ]
     },
     "execution_count": 55,
     "metadata": {},
     "output_type": "execute_result"
    }
   ],
   "source": [
    "min(nx.connected_components(G), key=len)"
   ]
  },
  {
   "cell_type": "code",
   "execution_count": 56,
   "metadata": {},
   "outputs": [],
   "source": [
    "# drop nodes 10661 and 10662\n",
    "G.remove_nodes_from([10661, 10662])"
   ]
  },
  {
   "cell_type": "code",
   "execution_count": 57,
   "metadata": {},
   "outputs": [
    {
     "name": "stdout",
     "output_type": "stream",
     "text": [
      "4598\n"
     ]
    }
   ],
   "source": [
    "# length of each connected component\n",
    "for component in nx.connected_components(G):\n",
    "    print(len(component))"
   ]
  },
  {
   "attachments": {},
   "cell_type": "markdown",
   "metadata": {},
   "source": [
    "## Functions for experiments"
   ]
  },
  {
   "cell_type": "code",
   "execution_count": 58,
   "metadata": {},
   "outputs": [],
   "source": [
    "def travel_time(a, b):\n",
    "    \"\"\"Rough estimate of travel time between two nodes.\"\"\"\n",
    "    return nx.shortest_path_length(G, a, b, weight=\"duration_avg\")"
   ]
  },
  {
   "cell_type": "code",
   "execution_count": 61,
   "metadata": {},
   "outputs": [
    {
     "data": {
      "text/plain": [
       "1776.245733788396"
      ]
     },
     "execution_count": 61,
     "metadata": {},
     "output_type": "execute_result"
    }
   ],
   "source": [
    "nx.shortest_path_length(G, 10924, 345, weight=\"duration_avg\")"
   ]
  },
  {
   "attachments": {},
   "cell_type": "markdown",
   "metadata": {},
   "source": [
    "## Measures for robustness"
   ]
  },
  {
   "cell_type": "code",
   "execution_count": 99,
   "metadata": {},
   "outputs": [],
   "source": [
    "def average_travel_time(G):\n",
    "    \"\"\"Average travel time between all pairs of nodes in G.\"\"\"\n",
    "    return nx.average_shortest_path_length(G, weight=\"duration_avg\")\n",
    "\n",
    "\n",
    "def full_average_travel_time(G):\n",
    "    \"\"\"\n",
    "    calculate average travel time for each component of G\n",
    "    and weight it by the number of nodes in the component\n",
    "    \"\"\"\n",
    "    components = nx.connected_components(G)\n",
    "    total = 0\n",
    "    for component in components:\n",
    "        total += len(component) * average_travel_time(G.subgraph(component))\n",
    "    return total / len(G)\n",
    "\n",
    "\n",
    "def random_sample(nodes, size):\n",
    "    \"\"\"\n",
    "    Randomly sample a subset of nodes from the graph.\n",
    "    \"\"\"\n",
    "    # take sample of nodes\n",
    "    sample = []\n",
    "    for i in range(size):\n",
    "        sample.append(random.sample(list(nodes), 2))\n",
    "    return sample\n",
    "\n",
    "\n",
    "def sample_average_travel_time(sample, G):\n",
    "    \"\"\"\n",
    "    Average travel time between all pairs of nodes in the sample.\n",
    "    \"\"\"\n",
    "    # for each pair in sample, calculate shortest path length in G\n",
    "    # and average over all pairs\n",
    "    total = 0\n",
    "    for pair in sample:\n",
    "        total += travel_time(pair[0], pair[1])\n",
    "    return total / (len(sample))"
   ]
  },
  {
   "cell_type": "code",
   "execution_count": 178,
   "metadata": {},
   "outputs": [
    {
     "data": {
      "text/plain": [
       "2042.4944781632191"
      ]
     },
     "execution_count": 178,
     "metadata": {},
     "output_type": "execute_result"
    }
   ],
   "source": [
    "# only take largest connected component\n",
    "sample_average_travel_time(random_sample(G.nodes(), 100), G)"
   ]
  },
  {
   "attachments": {},
   "cell_type": "markdown",
   "metadata": {},
   "source": [
    "## Percolation functions"
   ]
  },
  {
   "cell_type": "code",
   "execution_count": 174,
   "metadata": {},
   "outputs": [],
   "source": [
    "# function to perform random percolation on a graph\n",
    "def random_percolation(G, p):\n",
    "    \"\"\"\n",
    "    Random percolation on a graph.\n",
    "    :param G: graph\n",
    "    :param p: probability of edge removal\n",
    "    \"\"\"\n",
    "    to_remove = []\n",
    "    G_copy = G.copy()\n",
    "    for edge in G_copy.edges(keys=True):\n",
    "        source, target, key = edge[0], edge[1], edge[2]\n",
    "        edgetype = G_copy.get_edge_data(source, target, key)[\"route_type\"]\n",
    "        # exclude walking edges\n",
    "        if edgetype != 5 and random.random() < p:\n",
    "            to_remove.append((source, target, key))\n",
    "    for edge in to_remove:\n",
    "        source, target, key = edge[0], edge[1], edge[2]\n",
    "        G_copy.remove_edge(source, target, key=key)\n",
    "    return G_copy"
   ]
  },
  {
   "cell_type": "code",
   "execution_count": 171,
   "metadata": {},
   "outputs": [],
   "source": [
    "G_perc = random_percolation(G, 0.5)"
   ]
  },
  {
   "cell_type": "code",
   "execution_count": 172,
   "metadata": {},
   "outputs": [
    {
     "data": {
      "text/plain": [
       "24186"
      ]
     },
     "execution_count": 172,
     "metadata": {},
     "output_type": "execute_result"
    }
   ],
   "source": [
    "len(G_perc.edges())"
   ]
  },
  {
   "cell_type": "code",
   "execution_count": 169,
   "metadata": {},
   "outputs": [
    {
     "data": {
      "text/plain": [
       "30194"
      ]
     },
     "execution_count": 169,
     "metadata": {},
     "output_type": "execute_result"
    }
   ],
   "source": [
    "len(G.edges())"
   ]
  },
  {
   "attachments": {},
   "cell_type": "markdown",
   "metadata": {},
   "source": [
    "#### TODO: Make function for targeted percolation"
   ]
  },
  {
   "cell_type": "code",
   "execution_count": null,
   "metadata": {},
   "outputs": [],
   "source": [
    "# Targeted percolation"
   ]
  },
  {
   "attachments": {},
   "cell_type": "markdown",
   "metadata": {},
   "source": [
    "#### TODO: Make function that does repeated percolation and makes graph"
   ]
  },
  {
   "cell_type": "code",
   "execution_count": 188,
   "metadata": {},
   "outputs": [],
   "source": [
    "# Repeated experiments\n",
    "import numpy as np\n",
    "\n",
    "def percolation_experiments(G, p_min, p_max, steps, n_tests, n_percolations, verbose=False):\n",
    "    \"\"\"\n",
    "    Repeated percolation experiments.\n",
    "    :param G: graph\n",
    "    :param p_min: minimum probability\n",
    "    :param p_max: maximum probability\n",
    "    :param steps: number of steps\n",
    "    :param n: number of repetitions\n",
    "    \"\"\"\n",
    "    # initiate dataframe for results\n",
    "    results = pd.DataFrame(columns=['p', 'perc', 'test', 'result'])\n",
    "    # make range of probabilities\n",
    "    p_range = np.linspace(p_min, p_max, steps)\n",
    "\n",
    "    experiment = 0\n",
    "    for p in p_range:\n",
    "        for i in range(n_percolations):\n",
    "            G_perc = random_percolation(G, p)\n",
    "            for test in range(n_tests):\n",
    "                sample = random_sample(G_perc.nodes, 100)\n",
    "                time = sample_average_travel_time(sample, G_perc)\n",
    "\n",
    "                # append result to dataframe\n",
    "                results.loc[experiment] = (p, i, test, time)\n",
    "                if verbose:\n",
    "                    print(\"p: {}, test: {}, time: {}\".format(p, test, time))\n",
    "\n",
    "    return results"
   ]
  },
  {
   "cell_type": "code",
   "execution_count": 189,
   "metadata": {},
   "outputs": [
    {
     "name": "stdout",
     "output_type": "stream",
     "text": [
      "p: 0.0, test: 0, time: 1951.3172603014336\n",
      "p: 0.0, test: 1, time: 2093.5478700138897\n",
      "p: 0.0, test: 2, time: 2120.3230493422225\n",
      "p: 0.0, test: 3, time: 1999.9594894858064\n",
      "p: 0.0, test: 4, time: 2092.053224117001\n",
      "p: 0.0, test: 5, time: 2134.267779022565\n",
      "p: 0.0, test: 6, time: 2031.0423815189515\n",
      "p: 0.0, test: 7, time: 2019.99903301867\n",
      "p: 0.0, test: 8, time: 2067.771717669003\n"
     ]
    }
   ],
   "source": [
    "percolation_experiments(G, 0, 8, 100, 10, 10, verbose=True)"
   ]
  }
 ],
 "metadata": {
  "kernelspec": {
   "display_name": "mrwp",
   "language": "python",
   "name": "python3"
  },
  "language_info": {
   "codemirror_mode": {
    "name": "ipython",
    "version": 3
   },
   "file_extension": ".py",
   "mimetype": "text/x-python",
   "name": "python",
   "nbconvert_exporter": "python",
   "pygments_lexer": "ipython3",
   "version": "3.11.3"
  },
  "orig_nbformat": 4
 },
 "nbformat": 4,
 "nbformat_minor": 2
}
