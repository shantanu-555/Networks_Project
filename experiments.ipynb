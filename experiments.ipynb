{
 "cells": [
  {
   "cell_type": "code",
   "execution_count": null,
   "metadata": {},
   "outputs": [],
   "source": [
    "import networkx as nx\n",
    "import pandas as pd\n",
    "import matplotlib.pyplot as plt\n",
    "import plotly.express as px\n",
    "import random\n",
    "\n",
    "from auxiliaries import *\n",
    "\n",
    "random.seed(34)"
   ]
  },
  {
   "attachments": {},
   "cell_type": "markdown",
   "metadata": {},
   "source": [
    "### Auxiliary functions"
   ]
  },
  {
   "cell_type": "code",
   "execution_count": null,
   "metadata": {},
   "outputs": [],
   "source": [
    "# types of routes\n",
    "types = {\n",
    "    0: \"tram\",\n",
    "    1: \"subway\",\n",
    "    2: \"rail\",\n",
    "    3: \"bus\",\n",
    "    4: \"ferry\",\n",
    "    5: \"walking\",\n",
    "}\n",
    "\n",
    "def distance_to_duration(d):\n",
    "    \"\"\"\n",
    "    Converts the distance to duration\n",
    "    :param d: distance\n",
    "    :return: duration\n",
    "    \"\"\"\n",
    "    # average walking speed set to 1.3m/s\n",
    "    speed = 1.3\n",
    "    return d / speed\n",
    "\n",
    "def euclidian_distance(G, a, b):\n",
    "    \"\"\"\n",
    "    Calculates the (approximate) euclidian distance between two nodes\n",
    "    :param a: node a\n",
    "    :param b: node b\n",
    "    :param G: graph\n",
    "    :return: distance\n",
    "    \"\"\"\n",
    "    x1, y1 = G.nodes[a][\"pos\"]\n",
    "    x2, y2 = G.nodes[b][\"pos\"]\n",
    "    return math.sqrt((x1 - x2) ** 2 + (y1 - y2) ** 2)/1.6\n",
    "\n",
    "def closest_node_pair(G, subgraph):\n",
    "    \"\"\"\n",
    "    Finds the closest node outside of the subgraph\n",
    "    :param G: graph\n",
    "    :param subgraph: subgraph\n",
    "    :return: closest node pair\n",
    "    \"\"\"\n",
    "    # find the nodes outside of the subgraph\n",
    "    nodes_outside = [n for n in G.nodes if n not in subgraph.nodes]\n",
    "    # find the closest node pair between the nodes outside and the nodes inside\n",
    "    closest_node_pair = min(\n",
    "        [(n1, n2) for n1 in nodes_outside for n2 in subgraph.nodes],\n",
    "        key=lambda x: euclidian_distance(G, x[0], x[1]),\n",
    "    )\n",
    "    # return the closest node pair\n",
    "    return closest_node_pair\n"
   ]
  },
  {
   "cell_type": "code",
   "execution_count": null,
   "metadata": {},
   "outputs": [],
   "source": [
    "def make_walking_connected(G, G_walk):\n",
    "    \"\"\"\n",
    "    Makes the graph connected by adding walking edges\n",
    "    :param G: graph\n",
    "    :param G_walk: graph with walking edges\n",
    "    :return: None\n",
    "    \"\"\"\n",
    "    # add all nodes that are in G but not in G_walk to G_walk\n",
    "    for n in G.nodes:\n",
    "        if n not in G_walk.nodes:\n",
    "            G_walk.add_node(n, pos=G.nodes[n][\"pos\"])\n",
    "    while not nx.is_connected(G_walk):\n",
    "        # find the second largest connected component\n",
    "        second_largest_cc = sorted(\n",
    "            nx.connected_components(G_walk), key=len, reverse=True\n",
    "        )[1]\n",
    "        # find the closest node outside of the second largest connected component\n",
    "        closest_node = closest_node_pair(G, G_walk.subgraph(second_largest_cc))\n",
    "        # add the edge between the closest node and the second largest connected component\n",
    "        # set duration to euclidian distance between the two nodes\n",
    "        # set route_type to 5 (walking)\n",
    "        G_walk.add_edge(\n",
    "            closest_node[0],\n",
    "            closest_node[1],\n",
    "            duration=euclidian_distance(G, closest_node[0], closest_node[1]),\n",
    "            route_type=5,\n",
    "        )\n",
    "        G.add_edge(\n",
    "            closest_node[0],\n",
    "            closest_node[1],\n",
    "            duration=euclidian_distance(G, closest_node[0], closest_node[1]),\n",
    "            route_type=5,\n",
    "        )"
   ]
  },
  {
   "attachments": {},
   "cell_type": "markdown",
   "metadata": {},
   "source": [
    "### Functions for experiments"
   ]
  },
  {
   "cell_type": "code",
   "execution_count": null,
   "metadata": {},
   "outputs": [],
   "source": [
    "def travel_time(G, a, b):\n",
    "    \"\"\"Rough estimate of travel time between two nodes.\"\"\"\n",
    "    return nx.shortest_path_length(G, a, b, weight=\"duration_avg\")\n",
    "\n",
    "\n",
    "def average_travel_time(G):\n",
    "    \"\"\"Average travel time between all pairs of nodes in G.\"\"\"\n",
    "    return nx.average_shortest_path_length(G, weight=\"duration_avg\")\n",
    "\n",
    "\n",
    "def full_average_travel_time(G):\n",
    "    \"\"\"\n",
    "    calculate average travel time for each component of G\n",
    "    and weight it by the number of nodes in the component\n",
    "    \"\"\"\n",
    "    components = nx.connected_components(G)\n",
    "    total = 0\n",
    "    for component in components:\n",
    "        total += len(component) * average_travel_time(G.subgraph(component))\n",
    "    return total / len(G)\n",
    "\n",
    "\n",
    "def random_sample(nodes, size):\n",
    "    \"\"\"\n",
    "    Randomly sample a subset of nodes from the graph.\n",
    "    \"\"\"\n",
    "    # take sample of nodes\n",
    "    sample = []\n",
    "    for i in range(size):\n",
    "        sample.append(random.sample(list(nodes), 2))\n",
    "    return sample\n",
    "\n",
    "\n",
    "def sample_average_travel_time(sample, G):\n",
    "    \"\"\"\n",
    "    Average travel time between all pairs of nodes in the sample.\n",
    "    \"\"\"\n",
    "    # for each pair in sample, calculate shortest path length in G\n",
    "    # and average over all pairs\n",
    "    total = 0\n",
    "    for pair in sample:\n",
    "        total += travel_time(G, pair[0], pair[1])\n",
    "    return total / (len(sample))"
   ]
  },
  {
   "attachments": {},
   "cell_type": "markdown",
   "metadata": {},
   "source": [
    "## Percolation functions\n",
    "#### Random percolation"
   ]
  },
  {
   "cell_type": "code",
   "execution_count": null,
   "metadata": {},
   "outputs": [],
   "source": [
    "# function to perform random percolation on a graph\n",
    "def random_percolation(G, p):\n",
    "    \"\"\"\n",
    "    Random percolation on a graph.\n",
    "    :param G: graph\n",
    "    :param p: probability of edge removal\n",
    "    \"\"\"\n",
    "    to_remove = []\n",
    "    G_copy = G.copy()\n",
    "    for edge in G_copy.edges(keys=True):\n",
    "        source, target, key = edge[0], edge[1], edge[2]\n",
    "        edgetype = G_copy.get_edge_data(source, target, key)[\"route_type\"]\n",
    "        # exclude walking edges\n",
    "        if edgetype != 5 and random.random() < p:\n",
    "            to_remove.append((source, target, key))\n",
    "    for edge in to_remove:\n",
    "        source, target, key = edge[0], edge[1], edge[2]\n",
    "        G_copy.remove_edge(source, target, key=key)\n",
    "    return G_copy"
   ]
  },
  {
   "attachments": {},
   "cell_type": "markdown",
   "metadata": {},
   "source": [
    "#### TODO: Targeted percolation"
   ]
  },
  {
   "cell_type": "code",
   "execution_count": 327,
   "metadata": {},
   "outputs": [],
   "source": [
    "# targeted percolation on a graph\n",
    "def targeted_percolation(G, p, nodes):\n",
    "\n",
    "    # remove edges from nodes in order, until probability p edges are removed\n",
    "    # exclude walking edges\n",
    "    G_copy = G.copy()\n",
    "    to_remove = []\n",
    "    for node in nodes:\n",
    "        for edge in G_copy.edges(node, keys=True):\n",
    "            source, target, key = edge[0], edge[1], edge[2]\n",
    "            edgetype = G_copy.get_edge_data(source, target, key)[\"route_type\"]\n",
    "            if edgetype != 5:\n",
    "                to_remove.append((source, target, key))\n",
    "        if len(to_remove) / len(G_copy.edges) >= p:\n",
    "            break\n",
    "    for edge in to_remove:\n",
    "        source, target, key = edge[0], edge[1], edge[2]\n",
    "        G_copy.remove_edge(source, target, key=key)\n",
    "    return G_copy\n",
    "\n",
    "def get_nodes(G, method=\"degree\"):\n",
    "    print(\"Getting nodes...\\n\")\n",
    "    if method == \"eigenvector\":\n",
    "        # sort nodes by eigenvector centrality\n",
    "        nodes = sorted(\n",
    "            G.nodes, key=lambda x: nx.eigenvector_centrality(G)[x], reverse=True\n",
    "        )\n",
    "    elif method == \"betweenness\":\n",
    "        # sort nodes by betweenness centrality\n",
    "        nodes = sorted(\n",
    "            G.nodes, key=lambda x: nx.betweenness_centrality(G)[x], reverse=True\n",
    "        )\n",
    "    elif method == \"closeness\":\n",
    "        # sort nodes by closeness centrality\n",
    "        nodes = sorted(\n",
    "            G.nodes, key=lambda x: nx.closeness_centrality(G)[x], reverse=True\n",
    "        )\n",
    "    else: # method == \"degree\":\n",
    "        # sort nodes by degree\n",
    "        nodes = sorted(G.nodes, key=lambda x: G.degree[x], reverse=True)\n",
    "    return nodes"
   ]
  },
  {
   "attachments": {},
   "cell_type": "markdown",
   "metadata": {},
   "source": [
    "#### Repeated experiments"
   ]
  },
  {
   "cell_type": "code",
   "execution_count": 329,
   "metadata": {},
   "outputs": [],
   "source": [
    "# Repeated experiments\n",
    "import numpy as np\n",
    "\n",
    "def percolation_experiments(G, p_min, p_max, steps, n_tests, n_percolations, method=\"random\", verbose=False):\n",
    "    \"\"\"\n",
    "    Repeated percolation experiments.\n",
    "    :param G: graph\n",
    "    :param p_min: minimum probability\n",
    "    :param p_max: maximum probability\n",
    "    :param steps: number of steps\n",
    "    :param n: number of repetitions\n",
    "    \"\"\"\n",
    "    # initiate dataframe for results\n",
    "    results = pd.DataFrame(columns=['p', 'perc', 'test', 'result'])\n",
    "    # make range of probabilities\n",
    "    p_range = np.linspace(p_min, p_max, steps)\n",
    "\n",
    "    if not method == \"Random\":\n",
    "        nodes = get_nodes(G, method=method)\n",
    "    else:\n",
    "        nodes = None\n",
    "\n",
    "    if verbose:\n",
    "        print(\"Starting experiments...\\n\")\n",
    "    experiment = 0\n",
    "    for test in range(n_tests):\n",
    "        sample = random_sample(G.nodes, 100)\n",
    "        for p in p_range:\n",
    "            for i in range(n_percolations):\n",
    "                if method == \"random\":\n",
    "                    G_perc = random_percolation(G, p)\n",
    "                else:\n",
    "                    G_perc = targeted_percolation(G, p, nodes)\n",
    "                    \n",
    "                time = sample_average_travel_time(sample, G_perc)\n",
    "\n",
    "                # append result to dataframe\n",
    "                results.loc[experiment] = (p, i, test, time)\n",
    "                if verbose:\n",
    "                    print(\"p: {}, test: {}, time: {}, perc: {}\".format(p, test, time, i))\n",
    "                experiment += 1\n",
    "\n",
    "    return results"
   ]
  },
  {
   "attachments": {},
   "cell_type": "markdown",
   "metadata": {},
   "source": [
    "## Performing experiments on Berlin network"
   ]
  },
  {
   "cell_type": "code",
   "execution_count": 313,
   "metadata": {},
   "outputs": [],
   "source": [
    "# read in public transport network of berlin and walking network\n",
    "berlin, berlin_nodes = read_in_network(\"berlin\", \"combined\")\n",
    "berlin_walking, nodes_t = read_in_network(\"berlin\", \"walk\")\n",
    "\n",
    "# adapt berlin_walking dataframe to match berlin dataframe\n",
    "berlin_walking = berlin_walking.rename(columns={\"d_walk\": \"duration_avg\"})\n",
    "berlin_walking[\"duration\"] = berlin_walking[\"duration_avg\"].apply(distance_to_duration)\n",
    "berlin_walking[\"n_vehicles\"] = 0\n",
    "berlin_walking[\"route_I_counts\"] = 0\n",
    "berlin_walking[\"route_type\"] = 5\n",
    "\n",
    "# add berlin_walking to berlin\n",
    "berlin_full = pd.concat([berlin, berlin_walking], ignore_index=True)"
   ]
  },
  {
   "cell_type": "code",
   "execution_count": 314,
   "metadata": {},
   "outputs": [],
   "source": [
    "# convert to graph\n",
    "G = convert_to_graph(berlin_full)\n",
    "pos = add_positions(G, berlin_nodes)\n",
    "\n",
    "# convert walking network to seperate graph\n",
    "G_walk = convert_to_graph(berlin_walking)\n",
    "\n",
    "# make G connected by adding walking edges\n",
    "make_walking_connected(G, G_walk)"
   ]
  },
  {
   "attachments": {},
   "cell_type": "markdown",
   "metadata": {},
   "source": [
    "#### Perform percolation experiment"
   ]
  },
  {
   "cell_type": "code",
   "execution_count": 323,
   "metadata": {},
   "outputs": [],
   "source": [
    "results = percolation_experiments(G, 0, 1, 20, 1, 5, verbose=True)"
   ]
  },
  {
   "cell_type": "code",
   "execution_count": 334,
   "metadata": {},
   "outputs": [
    {
     "name": "stdout",
     "output_type": "stream",
     "text": [
      "Getting nodes...\n",
      "\n",
      "Starting experiments...\n",
      "\n",
      "p: 0.0, test: 0, time: 2109.5876928452813, perc: 0\n",
      "p: 0.0, test: 0, time: 2109.5876928452813, perc: 1\n",
      "p: 0.0, test: 0, time: 2109.5876928452813, perc: 2\n",
      "p: 0.0, test: 0, time: 2109.5876928452813, perc: 3\n",
      "p: 0.0, test: 0, time: 2109.5876928452813, perc: 4\n"
     ]
    },
    {
     "ename": "NetworkXError",
     "evalue": "The edge 10429-188 is not in the graph.",
     "output_type": "error",
     "traceback": [
      "\u001b[0;31m---------------------------------------------------------------------------\u001b[0m",
      "\u001b[0;31mKeyError\u001b[0m                                  Traceback (most recent call last)",
      "File \u001b[0;32m~/anaconda3/envs/mrwp/lib/python3.11/site-packages/networkx/classes/multigraph.py:681\u001b[0m, in \u001b[0;36mMultiGraph.remove_edge\u001b[0;34m(self, u, v, key)\u001b[0m\n\u001b[1;32m    680\u001b[0m \u001b[39mtry\u001b[39;00m:\n\u001b[0;32m--> 681\u001b[0m     d \u001b[39m=\u001b[39m \u001b[39mself\u001b[39;49m\u001b[39m.\u001b[39;49m_adj[u][v]\n\u001b[1;32m    682\u001b[0m \u001b[39mexcept\u001b[39;00m \u001b[39mKeyError\u001b[39;00m \u001b[39mas\u001b[39;00m err:\n",
      "\u001b[0;31mKeyError\u001b[0m: 188",
      "\nThe above exception was the direct cause of the following exception:\n",
      "\u001b[0;31mNetworkXError\u001b[0m                             Traceback (most recent call last)",
      "Cell \u001b[0;32mIn[334], line 1\u001b[0m\n\u001b[0;32m----> 1\u001b[0m results_betweenness \u001b[39m=\u001b[39m percolation_experiments(G, \u001b[39m0\u001b[39;49m, \u001b[39m1\u001b[39;49m, \u001b[39m20\u001b[39;49m, \u001b[39m1\u001b[39;49m, \u001b[39m5\u001b[39;49m, method\u001b[39m=\u001b[39;49m\u001b[39m\"\u001b[39;49m\u001b[39mdegree\u001b[39;49m\u001b[39m\"\u001b[39;49m, verbose\u001b[39m=\u001b[39;49m\u001b[39mTrue\u001b[39;49;00m)\n",
      "Cell \u001b[0;32mIn[329], line 33\u001b[0m, in \u001b[0;36mpercolation_experiments\u001b[0;34m(G, p_min, p_max, steps, n_tests, n_percolations, method, verbose)\u001b[0m\n\u001b[1;32m     31\u001b[0m     G_perc \u001b[39m=\u001b[39m random_percolation(G, p)\n\u001b[1;32m     32\u001b[0m \u001b[39melse\u001b[39;00m:\n\u001b[0;32m---> 33\u001b[0m     G_perc \u001b[39m=\u001b[39m targeted_percolation(G, p, nodes)\n\u001b[1;32m     35\u001b[0m time \u001b[39m=\u001b[39m sample_average_travel_time(sample, G_perc)\n\u001b[1;32m     37\u001b[0m \u001b[39m# append result to dataframe\u001b[39;00m\n",
      "Cell \u001b[0;32mIn[327], line 18\u001b[0m, in \u001b[0;36mtargeted_percolation\u001b[0;34m(G, p, nodes)\u001b[0m\n\u001b[1;32m     16\u001b[0m \u001b[39mfor\u001b[39;00m edge \u001b[39min\u001b[39;00m to_remove:\n\u001b[1;32m     17\u001b[0m     source, target, key \u001b[39m=\u001b[39m edge[\u001b[39m0\u001b[39m], edge[\u001b[39m1\u001b[39m], edge[\u001b[39m2\u001b[39m]\n\u001b[0;32m---> 18\u001b[0m     G_copy\u001b[39m.\u001b[39;49mremove_edge(source, target, key\u001b[39m=\u001b[39;49mkey)\n\u001b[1;32m     19\u001b[0m \u001b[39mreturn\u001b[39;00m G_copy\n",
      "File \u001b[0;32m~/anaconda3/envs/mrwp/lib/python3.11/site-packages/networkx/classes/multigraph.py:683\u001b[0m, in \u001b[0;36mMultiGraph.remove_edge\u001b[0;34m(self, u, v, key)\u001b[0m\n\u001b[1;32m    681\u001b[0m     d \u001b[39m=\u001b[39m \u001b[39mself\u001b[39m\u001b[39m.\u001b[39m_adj[u][v]\n\u001b[1;32m    682\u001b[0m \u001b[39mexcept\u001b[39;00m \u001b[39mKeyError\u001b[39;00m \u001b[39mas\u001b[39;00m err:\n\u001b[0;32m--> 683\u001b[0m     \u001b[39mraise\u001b[39;00m NetworkXError(\u001b[39mf\u001b[39m\u001b[39m\"\u001b[39m\u001b[39mThe edge \u001b[39m\u001b[39m{\u001b[39;00mu\u001b[39m}\u001b[39;00m\u001b[39m-\u001b[39m\u001b[39m{\u001b[39;00mv\u001b[39m}\u001b[39;00m\u001b[39m is not in the graph.\u001b[39m\u001b[39m\"\u001b[39m) \u001b[39mfrom\u001b[39;00m \u001b[39merr\u001b[39;00m\n\u001b[1;32m    684\u001b[0m \u001b[39m# remove the edge with specified data\u001b[39;00m\n\u001b[1;32m    685\u001b[0m \u001b[39mif\u001b[39;00m key \u001b[39mis\u001b[39;00m \u001b[39mNone\u001b[39;00m:\n",
      "\u001b[0;31mNetworkXError\u001b[0m: The edge 10429-188 is not in the graph."
     ]
    }
   ],
   "source": [
    "results_betweenness = percolation_experiments(G, 0, 1, 20, 1, 5, method=\"degree\", verbose=True)"
   ]
  },
  {
   "attachments": {},
   "cell_type": "markdown",
   "metadata": {},
   "source": [
    "#### Plot results"
   ]
  },
  {
   "cell_type": "code",
   "execution_count": 319,
   "metadata": {},
   "outputs": [
    {
     "data": {
      "text/plain": [
       "[<matplotlib.lines.Line2D at 0x7f90ccc22dd0>]"
      ]
     },
     "execution_count": 319,
     "metadata": {},
     "output_type": "execute_result"
    },
    {
     "data": {
      "image/png": "[encoded data removed]",
      "text/plain": [
       "<Figure size 640x480 with 1 Axes>"
      ]
     },
     "metadata": {},
     "output_type": "display_data"
    }
   ],
   "source": [
    "# make graph plotting p range against average average travel time\n",
    "x = results.groupby(\"p\").mean().reset_index()[\"p\"]\n",
    "# divide y by 60 to get minutes\n",
    "y = results.groupby(\"p\").mean().reset_index()[\"result\"]/60\n",
    "# set x and y label\n",
    "plt.xlabel(\"percolation probability (p)\")\n",
    "plt.ylabel(\"average travel time (minutes)\")\n",
    "plt.title(\"Percolation robustness Berlin\")\n",
    "plt.plot(x, y)"
   ]
  }
 ],
 "metadata": {
  "kernelspec": {
   "display_name": "mrwp",
   "language": "python",
   "name": "python3"
  },
  "language_info": {
   "codemirror_mode": {
    "name": "ipython",
    "version": 3
   },
   "file_extension": ".py",
   "mimetype": "text/x-python",
   "name": "python",
   "nbconvert_exporter": "python",
   "pygments_lexer": "ipython3",
   "version": "3.11.3"
  },
  "orig_nbformat": 4
 },
 "nbformat": 4,
 "nbformat_minor": 2
}
