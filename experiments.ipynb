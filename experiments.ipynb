{
 "cells": [
  {
   "cell_type": "code",
   "execution_count": null,
   "metadata": {},
   "outputs": [],
   "source": [
    "import networkx as nx\n",
    "import pandas as pd\n",
    "import matplotlib.pyplot as plt\n",
    "import plotly.express as px\n",
    "import random\n",
    "\n",
    "from auxiliaries import *\n",
    "\n",
    "random.seed(34)"
   ]
  },
  {
   "attachments": {},
   "cell_type": "markdown",
   "metadata": {},
   "source": [
    "### Auxiliary functions"
   ]
  },
  {
   "cell_type": "code",
   "execution_count": null,
   "metadata": {},
   "outputs": [],
   "source": [
    "# types of routes\n",
    "types = {\n",
    "    0: \"tram\",\n",
    "    1: \"subway\",\n",
    "    2: \"rail\",\n",
    "    3: \"bus\",\n",
    "    4: \"ferry\",\n",
    "    5: \"walking\",\n",
    "}\n",
    "\n",
    "def distance_to_duration(d):\n",
    "    \"\"\"\n",
    "    Converts the distance to duration\n",
    "    :param d: distance\n",
    "    :return: duration\n",
    "    \"\"\"\n",
    "    # average walking speed set to 1.3m/s\n",
    "    speed = 1.3\n",
    "    return d / speed\n",
    "\n",
    "def euclidian_distance(G, a, b):\n",
    "    \"\"\"\n",
    "    Calculates the (approximate) euclidian distance between two nodes\n",
    "    :param a: node a\n",
    "    :param b: node b\n",
    "    :param G: graph\n",
    "    :return: distance\n",
    "    \"\"\"\n",
    "    x1, y1 = G.nodes[a][\"pos\"]\n",
    "    x2, y2 = G.nodes[b][\"pos\"]\n",
    "    return math.sqrt((x1 - x2) ** 2 + (y1 - y2) ** 2)/1.6\n",
    "\n",
    "def closest_node_pair(G, subgraph):\n",
    "    \"\"\"\n",
    "    Finds the closest node outside of the subgraph\n",
    "    :param G: graph\n",
    "    :param subgraph: subgraph\n",
    "    :return: closest node pair\n",
    "    \"\"\"\n",
    "    # find the nodes outside of the subgraph\n",
    "    nodes_outside = [n for n in G.nodes if n not in subgraph.nodes]\n",
    "    # find the closest node pair between the nodes outside and the nodes inside\n",
    "    closest_node_pair = min(\n",
    "        [(n1, n2) for n1 in nodes_outside for n2 in subgraph.nodes],\n",
    "        key=lambda x: euclidian_distance(G, x[0], x[1]),\n",
    "    )\n",
    "    # return the closest node pair\n",
    "    return closest_node_pair\n"
   ]
  },
  {
   "cell_type": "code",
   "execution_count": null,
   "metadata": {},
   "outputs": [],
   "source": [
    "def make_walking_connected(G, G_walk):\n",
    "    \"\"\"\n",
    "    Makes the graph connected by adding walking edges\n",
    "    :param G: graph\n",
    "    :param G_walk: graph with walking edges\n",
    "    :return: None\n",
    "    \"\"\"\n",
    "    # add all nodes that are in G but not in G_walk to G_walk\n",
    "    for n in G.nodes:\n",
    "        if n not in G_walk.nodes:\n",
    "            G_walk.add_node(n, pos=G.nodes[n][\"pos\"])\n",
    "    while not nx.is_connected(G_walk):\n",
    "        # find the second largest connected component\n",
    "        second_largest_cc = sorted(\n",
    "            nx.connected_components(G_walk), key=len, reverse=True\n",
    "        )[1]\n",
    "        # find the closest node outside of the second largest connected component\n",
    "        closest_node = closest_node_pair(G, G_walk.subgraph(second_largest_cc))\n",
    "        # add the edge between the closest node and the second largest connected component\n",
    "        # set duration to euclidian distance between the two nodes\n",
    "        # set route_type to 5 (walking)\n",
    "        G_walk.add_edge(\n",
    "            closest_node[0],\n",
    "            closest_node[1],\n",
    "            duration=euclidian_distance(G, closest_node[0], closest_node[1]),\n",
    "            route_type=5,\n",
    "        )\n",
    "        G.add_edge(\n",
    "            closest_node[0],\n",
    "            closest_node[1],\n",
    "            duration=euclidian_distance(G, closest_node[0], closest_node[1]),\n",
    "            route_type=5,\n",
    "        )"
   ]
  },
  {
   "attachments": {},
   "cell_type": "markdown",
   "metadata": {},
   "source": [
    "### Functions for experiments"
   ]
  },
  {
   "cell_type": "code",
   "execution_count": null,
   "metadata": {},
   "outputs": [],
   "source": [
    "def travel_time(G, a, b):\n",
    "    \"\"\"Rough estimate of travel time between two nodes.\"\"\"\n",
    "    return nx.shortest_path_length(G, a, b, weight=\"duration_avg\")\n",
    "\n",
    "\n",
    "def average_travel_time(G):\n",
    "    \"\"\"Average travel time between all pairs of nodes in G.\"\"\"\n",
    "    return nx.average_shortest_path_length(G, weight=\"duration_avg\")\n",
    "\n",
    "\n",
    "def full_average_travel_time(G):\n",
    "    \"\"\"\n",
    "    calculate average travel time for each component of G\n",
    "    and weight it by the number of nodes in the component\n",
    "    \"\"\"\n",
    "    components = nx.connected_components(G)\n",
    "    total = 0\n",
    "    for component in components:\n",
    "        total += len(component) * average_travel_time(G.subgraph(component))\n",
    "    return total / len(G)\n",
    "\n",
    "\n",
    "def random_sample(nodes, size):\n",
    "    \"\"\"\n",
    "    Randomly sample a subset of nodes from the graph.\n",
    "    \"\"\"\n",
    "    # take sample of nodes\n",
    "    sample = []\n",
    "    for i in range(size):\n",
    "        sample.append(random.sample(list(nodes), 2))\n",
    "    return sample\n",
    "\n",
    "\n",
    "def sample_average_travel_time(sample, G):\n",
    "    \"\"\"\n",
    "    Average travel time between all pairs of nodes in the sample.\n",
    "    \"\"\"\n",
    "    # for each pair in sample, calculate shortest path length in G\n",
    "    # and average over all pairs\n",
    "    total = 0\n",
    "    for pair in sample:\n",
    "        total += travel_time(G, pair[0], pair[1])\n",
    "    return total / (len(sample))"
   ]
  },
  {
   "attachments": {},
   "cell_type": "markdown",
   "metadata": {},
   "source": [
    "## Percolation functions\n",
    "#### Random percolation"
   ]
  },
  {
   "cell_type": "code",
   "execution_count": null,
   "metadata": {},
   "outputs": [],
   "source": [
    "# function to perform random percolation on a graph\n",
    "def random_percolation(G, p):\n",
    "    \"\"\"\n",
    "    Random percolation on a graph.\n",
    "    :param G: graph\n",
    "    :param p: probability of edge removal\n",
    "    \"\"\"\n",
    "    to_remove = []\n",
    "    G_copy = G.copy()\n",
    "    for edge in G_copy.edges(keys=True):\n",
    "        source, target, key = edge[0], edge[1], edge[2]\n",
    "        edgetype = G_copy.get_edge_data(source, target, key)[\"route_type\"]\n",
    "        # exclude walking edges\n",
    "        if edgetype != 5 and random.random() < p:\n",
    "            to_remove.append((source, target, key))\n",
    "    for edge in to_remove:\n",
    "        source, target, key = edge[0], edge[1], edge[2]\n",
    "        G_copy.remove_edge(source, target, key=key)\n",
    "    return G_copy"
   ]
  },
  {
   "attachments": {},
   "cell_type": "markdown",
   "metadata": {},
   "source": [
    "#### TODO: Targeted percolation"
   ]
  },
  {
   "cell_type": "code",
   "execution_count": 302,
   "metadata": {},
   "outputs": [],
   "source": [
    "# targeted percolation on a graph\n",
    "# ...."
   ]
  },
  {
   "attachments": {},
   "cell_type": "markdown",
   "metadata": {},
   "source": [
    "#### Repeated experiments"
   ]
  },
  {
   "cell_type": "code",
   "execution_count": null,
   "metadata": {},
   "outputs": [],
   "source": [
    "# Repeated experiments\n",
    "import numpy as np\n",
    "\n",
    "def percolation_experiments(G, p_min, p_max, steps, n_tests, n_percolations, verbose=False):\n",
    "    \"\"\"\n",
    "    Repeated percolation experiments.\n",
    "    :param G: graph\n",
    "    :param p_min: minimum probability\n",
    "    :param p_max: maximum probability\n",
    "    :param steps: number of steps\n",
    "    :param n: number of repetitions\n",
    "    \"\"\"\n",
    "    # initiate dataframe for results\n",
    "    results = pd.DataFrame(columns=['p', 'perc', 'test', 'result'])\n",
    "    # make range of probabilities\n",
    "    p_range = np.linspace(p_min, p_max, steps)\n",
    "\n",
    "    experiment = 0\n",
    "    for test in range(n_tests):\n",
    "        sample = random_sample(G.nodes, 100)\n",
    "        for p in p_range:\n",
    "            for i in range(n_percolations):\n",
    "                G_perc = random_percolation(G, p)\n",
    "                time = sample_average_travel_time(sample, G_perc)\n",
    "\n",
    "                # append result to dataframe\n",
    "                results.loc[experiment] = (p, i, test, time)\n",
    "                if verbose:\n",
    "                    print(\"p: {}, test: {}, time: {}, perc: {}\".format(p, test, time, i))\n",
    "                experiment += 1\n",
    "\n",
    "    return results"
   ]
  },
  {
   "attachments": {},
   "cell_type": "markdown",
   "metadata": {},
   "source": [
    "## Performing experiments on Berlin network"
   ]
  },
  {
   "cell_type": "code",
   "execution_count": 303,
   "metadata": {},
   "outputs": [],
   "source": [
    "# read in public transport network of berlin and walking network\n",
    "berlin, berlin_nodes = read_in_network(\"berlin\", \"combined\")\n",
    "berlin_walking, nodes_t = read_in_network(\"berlin\", \"walk\")\n",
    "\n",
    "# adapt berlin_walking dataframe to match berlin dataframe\n",
    "berlin_walking = berlin_walking.rename(columns={\"d_walk\": \"duration_avg\"})\n",
    "berlin_walking[\"duration\"] = berlin_walking[\"duration_avg\"].apply(distance_to_duration)\n",
    "berlin_walking[\"n_vehicles\"] = 0\n",
    "berlin_walking[\"route_I_counts\"] = 0\n",
    "berlin_walking[\"route_type\"] = 5\n",
    "\n",
    "# add berlin_walking to berlin\n",
    "berlin_full = pd.concat([berlin, berlin_walking], ignore_index=True)"
   ]
  },
  {
   "cell_type": "code",
   "execution_count": 304,
   "metadata": {},
   "outputs": [],
   "source": [
    "# convert to graph\n",
    "G = convert_to_graph(berlin_full)\n",
    "pos = add_positions(G, berlin_nodes)\n",
    "\n",
    "# convert walking network to seperate graph\n",
    "G_walk = convert_to_graph(berlin_walking)\n",
    "\n",
    "# make G connected by adding walking edges\n",
    "make_walking_connected(G, G_walk)"
   ]
  },
  {
   "attachments": {},
   "cell_type": "markdown",
   "metadata": {},
   "source": [
    "#### Perform percolation experiment"
   ]
  },
  {
   "cell_type": "code",
   "execution_count": 305,
   "metadata": {},
   "outputs": [
    {
     "name": "stdout",
     "output_type": "stream",
     "text": [
      "p: 0.0, test: 0, time: 1953.9392183794064, perc: 0\n",
      "p: 0.0, test: 0, time: 1953.9392183794064, perc: 1\n",
      "p: 0.0, test: 0, time: 1953.9392183794064, perc: 2\n",
      "p: 0.0, test: 0, time: 1953.9392183794064, perc: 3\n",
      "p: 0.0, test: 0, time: 1953.9392183794064, perc: 4\n",
      "p: 0.05263157894736842, test: 0, time: 1971.762742601787, perc: 0\n",
      "p: 0.05263157894736842, test: 0, time: 1979.2755374696487, perc: 1\n",
      "p: 0.05263157894736842, test: 0, time: 1962.260168010189, perc: 2\n",
      "p: 0.05263157894736842, test: 0, time: 1974.2984652214386, perc: 3\n",
      "p: 0.05263157894736842, test: 0, time: 1966.3819987261147, perc: 4\n",
      "p: 0.10526315789473684, test: 0, time: 1999.3232666234096, perc: 0\n",
      "p: 0.10526315789473684, test: 0, time: 2012.2602540212422, perc: 1\n",
      "p: 0.10526315789473684, test: 0, time: 2016.908716936753, perc: 2\n",
      "p: 0.10526315789473684, test: 0, time: 1996.1187414170959, perc: 3\n",
      "p: 0.10526315789473684, test: 0, time: 2018.6256700942354, perc: 4\n",
      "p: 0.15789473684210525, test: 0, time: 2064.493002373294, perc: 0\n",
      "p: 0.15789473684210525, test: 0, time: 2049.9103219585027, perc: 1\n",
      "p: 0.15789473684210525, test: 0, time: 2053.3325609878434, perc: 2\n",
      "p: 0.15789473684210525, test: 0, time: 2064.2811911570234, perc: 3\n",
      "p: 0.15789473684210525, test: 0, time: 2044.6446407162762, perc: 4\n",
      "p: 0.21052631578947367, test: 0, time: 2088.5335167759104, perc: 0\n",
      "p: 0.21052631578947367, test: 0, time: 2131.6713925972126, perc: 1\n",
      "p: 0.21052631578947367, test: 0, time: 2081.8526472243652, perc: 2\n",
      "p: 0.21052631578947367, test: 0, time: 2098.584519292933, perc: 3\n",
      "p: 0.21052631578947367, test: 0, time: 2063.085831646819, perc: 4\n",
      "p: 0.2631578947368421, test: 0, time: 2096.917257066697, perc: 0\n",
      "p: 0.2631578947368421, test: 0, time: 2210.5364730165184, perc: 1\n",
      "p: 0.2631578947368421, test: 0, time: 2227.7775802083047, perc: 2\n",
      "p: 0.2631578947368421, test: 0, time: 2141.0153139352337, perc: 3\n",
      "p: 0.2631578947368421, test: 0, time: 2134.932163929496, perc: 4\n",
      "p: 0.3157894736842105, test: 0, time: 2333.8885625695957, perc: 0\n",
      "p: 0.3157894736842105, test: 0, time: 2215.8094580422708, perc: 1\n",
      "p: 0.3157894736842105, test: 0, time: 2291.3580299468285, perc: 2\n",
      "p: 0.3157894736842105, test: 0, time: 2263.1617686786094, perc: 3\n",
      "p: 0.3157894736842105, test: 0, time: 2304.9567562863153, perc: 4\n",
      "p: 0.3684210526315789, test: 0, time: 2326.3919420904253, perc: 0\n",
      "p: 0.3684210526315789, test: 0, time: 2381.0847029953984, perc: 1\n",
      "p: 0.3684210526315789, test: 0, time: 2387.234993377586, perc: 2\n",
      "p: 0.3684210526315789, test: 0, time: 2437.8704882553825, perc: 3\n",
      "p: 0.3684210526315789, test: 0, time: 2427.3179158749845, perc: 4\n",
      "p: 0.42105263157894735, test: 0, time: 2592.567858906234, perc: 0\n",
      "p: 0.42105263157894735, test: 0, time: 2582.1848848597215, perc: 1\n",
      "p: 0.42105263157894735, test: 0, time: 2619.5425600355616, perc: 2\n",
      "p: 0.42105263157894735, test: 0, time: 2524.6019974167534, perc: 3\n",
      "p: 0.42105263157894735, test: 0, time: 2557.481607616292, perc: 4\n",
      "p: 0.47368421052631576, test: 0, time: 2802.7441083402687, perc: 0\n",
      "p: 0.47368421052631576, test: 0, time: 2655.9752860517265, perc: 1\n",
      "p: 0.47368421052631576, test: 0, time: 2906.791853536619, perc: 2\n",
      "p: 0.47368421052631576, test: 0, time: 2853.8210629753803, perc: 3\n",
      "p: 0.47368421052631576, test: 0, time: 2779.309498288228, perc: 4\n",
      "p: 0.5263157894736842, test: 0, time: 2923.4015785579036, perc: 0\n",
      "p: 0.5263157894736842, test: 0, time: 2973.9529593235393, perc: 1\n",
      "p: 0.5263157894736842, test: 0, time: 3164.0185092477373, perc: 2\n",
      "p: 0.5263157894736842, test: 0, time: 3045.4142985536573, perc: 3\n",
      "p: 0.5263157894736842, test: 0, time: 2927.5197136950005, perc: 4\n",
      "p: 0.5789473684210527, test: 0, time: 3321.20978085131, perc: 0\n",
      "p: 0.5789473684210527, test: 0, time: 3540.618957423614, perc: 1\n",
      "p: 0.5789473684210527, test: 0, time: 3526.3306993216556, perc: 2\n",
      "p: 0.5789473684210527, test: 0, time: 3416.3361974727404, perc: 3\n",
      "p: 0.5789473684210527, test: 0, time: 3462.165403470555, perc: 4\n",
      "p: 0.631578947368421, test: 0, time: 3818.63707998807, perc: 0\n",
      "p: 0.631578947368421, test: 0, time: 3466.8662064732553, perc: 1\n",
      "p: 0.631578947368421, test: 0, time: 3939.8032460396666, perc: 2\n",
      "p: 0.631578947368421, test: 0, time: 4178.908270655669, perc: 3\n",
      "p: 0.631578947368421, test: 0, time: 3809.2325343141506, perc: 4\n",
      "p: 0.6842105263157894, test: 0, time: 4751.476952800591, perc: 0\n",
      "p: 0.6842105263157894, test: 0, time: 4193.371499441665, perc: 1\n",
      "p: 0.6842105263157894, test: 0, time: 4846.57062345263, perc: 2\n",
      "p: 0.6842105263157894, test: 0, time: 4572.215720260866, perc: 3\n",
      "p: 0.6842105263157894, test: 0, time: 4683.398140770316, perc: 4\n",
      "p: 0.7368421052631579, test: 0, time: 5651.212393776456, perc: 0\n",
      "p: 0.7368421052631579, test: 0, time: 5720.54797050638, perc: 1\n",
      "p: 0.7368421052631579, test: 0, time: 5017.7647401378745, perc: 2\n",
      "p: 0.7368421052631579, test: 0, time: 6533.683741159486, perc: 3\n",
      "p: 0.7368421052631579, test: 0, time: 5437.608374336702, perc: 4\n",
      "p: 0.7894736842105263, test: 0, time: 7462.625523120392, perc: 0\n",
      "p: 0.7894736842105263, test: 0, time: 7301.285075002242, perc: 1\n",
      "p: 0.7894736842105263, test: 0, time: 7236.594457293999, perc: 2\n",
      "p: 0.7894736842105263, test: 0, time: 7631.325770121117, perc: 3\n",
      "p: 0.7894736842105263, test: 0, time: 6362.164472284304, perc: 4\n",
      "p: 0.8421052631578947, test: 0, time: 8582.546164719204, perc: 0\n",
      "p: 0.8421052631578947, test: 0, time: 9176.98897818427, perc: 1\n",
      "p: 0.8421052631578947, test: 0, time: 8628.574231063605, perc: 2\n",
      "p: 0.8421052631578947, test: 0, time: 9462.316776210548, perc: 3\n",
      "p: 0.8421052631578947, test: 0, time: 8875.024085261222, perc: 4\n",
      "p: 0.894736842105263, test: 0, time: 11933.802027166008, perc: 0\n",
      "p: 0.894736842105263, test: 0, time: 13020.993344293485, perc: 1\n",
      "p: 0.894736842105263, test: 0, time: 11356.810282124763, perc: 2\n",
      "p: 0.894736842105263, test: 0, time: 13037.475082021188, perc: 3\n",
      "p: 0.894736842105263, test: 0, time: 11592.494975241685, perc: 4\n",
      "p: 0.9473684210526315, test: 0, time: 16983.0910483097, perc: 0\n",
      "p: 0.9473684210526315, test: 0, time: 18183.356778689227, perc: 1\n",
      "p: 0.9473684210526315, test: 0, time: 17039.41499225311, perc: 2\n",
      "p: 0.9473684210526315, test: 0, time: 17939.85893015869, perc: 3\n",
      "p: 0.9473684210526315, test: 0, time: 19562.44394190405, perc: 4\n",
      "p: 1.0, test: 0, time: 26679.88, perc: 0\n",
      "p: 1.0, test: 0, time: 26679.88, perc: 1\n",
      "p: 1.0, test: 0, time: 26679.88, perc: 2\n",
      "p: 1.0, test: 0, time: 26679.88, perc: 3\n",
      "p: 1.0, test: 0, time: 26679.88, perc: 4\n"
     ]
    }
   ],
   "source": [
    "results = percolation_experiments(G, 0, 1, 20, 1, 5, verbose=True)"
   ]
  },
  {
   "attachments": {},
   "cell_type": "markdown",
   "metadata": {},
   "source": [
    "#### Plot results"
   ]
  },
  {
   "cell_type": "code",
   "execution_count": 309,
   "metadata": {},
   "outputs": [
    {
     "data": {
      "text/plain": [
       "[<matplotlib.lines.Line2D at 0x7f90cd07da90>]"
      ]
     },
     "execution_count": 309,
     "metadata": {},
     "output_type": "execute_result"
    },
    {
     "data": {
      "image/png": "[encoded data removed]",
      "text/plain": [
       "<Figure size 640x480 with 1 Axes>"
      ]
     },
     "metadata": {},
     "output_type": "display_data"
    }
   ],
   "source": [
    "# make graph plotting p range against average average travel time\n",
    "x = results.groupby(\"p\").mean().reset_index()[\"p\"]\n",
    "# divide y by 60 to get minutes\n",
    "y = results.groupby(\"p\").mean().reset_index()[\"result\"]/60\n",
    "# set x and y label\n",
    "plt.xlabel(\"percolation probability (p)\")\n",
    "plt.ylabel(\"average travel time (minutes)\")\n",
    "plt.title(\"Percolation robustness Berlin\")\n",
    "plt.plot(x, y)"
   ]
  }
 ],
 "metadata": {
  "kernelspec": {
   "display_name": "mrwp",
   "language": "python",
   "name": "python3"
  },
  "language_info": {
   "codemirror_mode": {
    "name": "ipython",
    "version": 3
   },
   "file_extension": ".py",
   "mimetype": "text/x-python",
   "name": "python",
   "nbconvert_exporter": "python",
   "pygments_lexer": "ipython3",
   "version": "3.11.3"
  },
  "orig_nbformat": 4
 },
 "nbformat": 4,
 "nbformat_minor": 2
}
