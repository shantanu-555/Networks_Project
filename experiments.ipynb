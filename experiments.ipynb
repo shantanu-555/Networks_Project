{
 "cells": [
  {
   "cell_type": "code",
   "execution_count": 23,
   "metadata": {},
   "outputs": [],
   "source": [
    "import networkx as nx\n",
    "import pandas as pd\n",
    "import matplotlib.pyplot as plt\n",
    "import plotly.express as px\n",
    "import random"
   ]
  },
  {
   "cell_type": "code",
   "execution_count": 30,
   "metadata": {},
   "outputs": [],
   "source": [
    "from auxiliaries import *\n",
    "\n",
    "random.seed(20)"
   ]
  },
  {
   "cell_type": "code",
   "execution_count": 5,
   "metadata": {},
   "outputs": [],
   "source": [
    "berlin, berlin_nodes = read_in_network(\"berlin\", \"combined\")\n",
    "G = convert_to_graph(berlin)\n",
    "pos = add_positions(G, berlin_nodes)"
   ]
  },
  {
   "attachments": {},
   "cell_type": "markdown",
   "metadata": {},
   "source": [
    "## Connected component\n",
    "\n",
    "The Berlin network is not a connected component, but as we see below, the largest connected component is very large (only 8 nodes are not connected to it). Therefore we can just drop those few nodes and work only with the largest connected component."
   ]
  },
  {
   "cell_type": "code",
   "execution_count": 9,
   "metadata": {},
   "outputs": [
    {
     "name": "stdout",
     "output_type": "stream",
     "text": [
      "4593\n",
      "4\n",
      "2\n",
      "2\n"
     ]
    }
   ],
   "source": [
    "# length of each connected component\n",
    "for component in nx.connected_components(G):\n",
    "    print(len(component))"
   ]
  },
  {
   "cell_type": "code",
   "execution_count": 14,
   "metadata": {},
   "outputs": [],
   "source": [
    "connected_G = G.subgraph(max(nx.connected_components(G), key=len))"
   ]
  },
  {
   "attachments": {},
   "cell_type": "markdown",
   "metadata": {},
   "source": [
    "## Functions for experiments"
   ]
  },
  {
   "cell_type": "code",
   "execution_count": 19,
   "metadata": {},
   "outputs": [],
   "source": [
    "def travel_time(a, b):\n",
    "    \"\"\"Rough estimate of travel time between two nodes.\"\"\"\n",
    "    return nx.shortest_path_length(G, a, b, weight=\"duration_avg\")"
   ]
  },
  {
   "cell_type": "code",
   "execution_count": 32,
   "metadata": {},
   "outputs": [],
   "source": [
    "def average_travel_time(G):\n",
    "    \"\"\"Average travel time between all pairs of nodes in G.\"\"\"\n",
    "    return nx.average_shortest_path_length(G, weight=\"duration_avg\")\n",
    "\n",
    "\n",
    "def full_average_travel_time(G):\n",
    "    \"\"\"\n",
    "    calculate average travel time for each component of G\n",
    "    and weight it by the number of nodes in the component\n",
    "    \"\"\"\n",
    "    components = nx.connected_components(G)\n",
    "    total = 0\n",
    "    for component in components:\n",
    "        total += len(component) * average_travel_time(G.subgraph(component))\n",
    "    return total / len(G)\n",
    "\n",
    "\n",
    "def random_sample(nodes, size):\n",
    "    \"\"\"\n",
    "    Randomly sample a subset of nodes from the graph.\n",
    "    \"\"\"\n",
    "    # take sample of nodes\n",
    "    sample = random.sample(list(nodes), size)\n",
    "    return sample\n",
    "\n",
    "\n",
    "def sample_average_travel_time(sample, G):\n",
    "    \"\"\"\n",
    "    Average travel time between all pairs of nodes in the sample.\n",
    "    \"\"\"\n",
    "    # for each pair in sample, calculate shortest path length in G\n",
    "    # and average over all pairs\n",
    "    total = 0\n",
    "    for a in sample:\n",
    "        for b in sample:\n",
    "            total += travel_time(a, b)\n",
    "    return total / (len(sample) ** 2)"
   ]
  },
  {
   "cell_type": "code",
   "execution_count": 36,
   "metadata": {},
   "outputs": [
    {
     "data": {
      "text/plain": [
       "2263.021694259138"
      ]
     },
     "execution_count": 36,
     "metadata": {},
     "output_type": "execute_result"
    }
   ],
   "source": [
    "# only take largest connected component\n",
    "sample_average_travel_time(random_sample(connected_G.nodes, 100), connected_G)"
   ]
  }
 ],
 "metadata": {
  "kernelspec": {
   "display_name": "mrwp",
   "language": "python",
   "name": "python3"
  },
  "language_info": {
   "codemirror_mode": {
    "name": "ipython",
    "version": 3
   },
   "file_extension": ".py",
   "mimetype": "text/x-python",
   "name": "python",
   "nbconvert_exporter": "python",
   "pygments_lexer": "ipython3",
   "version": "3.11.3"
  },
  "orig_nbformat": 4
 },
 "nbformat": 4,
 "nbformat_minor": 2
}
