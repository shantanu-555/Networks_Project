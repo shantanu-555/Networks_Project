{
 "cells": [
  {
   "cell_type": "code",
   "execution_count": 1,
   "id": "2f380e30",
   "metadata": {
    "ExecuteTime": {
     "end_time": "2023-05-15T17:32:44.844249600Z",
     "start_time": "2023-05-15T17:32:42.986322700Z"
    }
   },
   "outputs": [],
   "source": [
    "import networkx as nx\n",
    "import pandas as pd\n",
    "import matplotlib.pyplot as plt\n",
    "%matplotlib inline\n",
    "import plotly.express as px\n",
    "from auxiliaries import *"
   ]
  },
  {
   "cell_type": "code",
   "execution_count": 2,
   "id": "a074c432",
   "metadata": {},
   "outputs": [],
   "source": [
    "berlin_df, berlin_nodes = read_in_network(\"berlin\", \"combined\")\n",
    "helsinki_df, helsinki_nodes = read_in_network(\"helsinki\", \"combined\")"
   ]
  },
  {
   "cell_type": "code",
   "execution_count": 13,
   "id": "6824ef6e",
   "metadata": {},
   "outputs": [
    {
     "data": {
      "text/html": [
       "<div>\n",
       "<style scoped>\n",
       "    .dataframe tbody tr th:only-of-type {\n",
       "        vertical-align: middle;\n",
       "    }\n",
       "\n",
       "    .dataframe tbody tr th {\n",
       "        vertical-align: top;\n",
       "    }\n",
       "\n",
       "    .dataframe thead th {\n",
       "        text-align: right;\n",
       "    }\n",
       "</style>\n",
       "<table border=\"1\" class=\"dataframe\">\n",
       "  <thead>\n",
       "    <tr style=\"text-align: right;\">\n",
       "      <th></th>\n",
       "      <th>stop_I</th>\n",
       "      <th>lat</th>\n",
       "      <th>lon</th>\n",
       "      <th>name</th>\n",
       "    </tr>\n",
       "  </thead>\n",
       "  <tbody>\n",
       "    <tr>\n",
       "      <th>0</th>\n",
       "      <td>105</td>\n",
       "      <td>52.528318</td>\n",
       "      <td>13.320260</td>\n",
       "      <td>Wiebestr./Huttenstr. (Berlin)</td>\n",
       "    </tr>\n",
       "    <tr>\n",
       "      <th>1</th>\n",
       "      <td>106</td>\n",
       "      <td>52.527903</td>\n",
       "      <td>13.323637</td>\n",
       "      <td>Reuchlinstr. (Berlin)</td>\n",
       "    </tr>\n",
       "    <tr>\n",
       "      <th>2</th>\n",
       "      <td>107</td>\n",
       "      <td>52.529103</td>\n",
       "      <td>13.315981</td>\n",
       "      <td>Neues Ufer (Berlin)</td>\n",
       "    </tr>\n",
       "    <tr>\n",
       "      <th>3</th>\n",
       "      <td>108</td>\n",
       "      <td>52.525756</td>\n",
       "      <td>13.309840</td>\n",
       "      <td>Ilsenburger Str. (Berlin)</td>\n",
       "    </tr>\n",
       "    <tr>\n",
       "      <th>4</th>\n",
       "      <td>109</td>\n",
       "      <td>52.525797</td>\n",
       "      <td>13.314261</td>\n",
       "      <td>Goslarer Platz (Berlin)</td>\n",
       "    </tr>\n",
       "    <tr>\n",
       "      <th>...</th>\n",
       "      <td>...</td>\n",
       "      <td>...</td>\n",
       "      <td>...</td>\n",
       "      <td>...</td>\n",
       "    </tr>\n",
       "    <tr>\n",
       "      <th>4596</th>\n",
       "      <td>10938</td>\n",
       "      <td>52.769962</td>\n",
       "      <td>13.454593</td>\n",
       "      <td>Stolzenhagen, Stolzenfels</td>\n",
       "    </tr>\n",
       "    <tr>\n",
       "      <th>4597</th>\n",
       "      <td>10939</td>\n",
       "      <td>52.611806</td>\n",
       "      <td>13.594948</td>\n",
       "      <td>Blumberg (BAR), Gutshof</td>\n",
       "    </tr>\n",
       "    <tr>\n",
       "      <th>4598</th>\n",
       "      <td>10940</td>\n",
       "      <td>52.606930</td>\n",
       "      <td>13.601930</td>\n",
       "      <td>Blumberg (BAR), Liebigstr.</td>\n",
       "    </tr>\n",
       "    <tr>\n",
       "      <th>4599</th>\n",
       "      <td>10946</td>\n",
       "      <td>52.734171</td>\n",
       "      <td>13.666572</td>\n",
       "      <td>Danewitz, Kirche</td>\n",
       "    </tr>\n",
       "    <tr>\n",
       "      <th>4600</th>\n",
       "      <td>12674</td>\n",
       "      <td>52.397446</td>\n",
       "      <td>13.530343</td>\n",
       "      <td>Schönefeld (bei Berlin), Bohnsdorfer Chaussee</td>\n",
       "    </tr>\n",
       "  </tbody>\n",
       "</table>\n",
       "<p>4601 rows × 4 columns</p>\n",
       "</div>"
      ],
      "text/plain": [
       "      stop_I        lat        lon  \\\n",
       "0        105  52.528318  13.320260   \n",
       "1        106  52.527903  13.323637   \n",
       "2        107  52.529103  13.315981   \n",
       "3        108  52.525756  13.309840   \n",
       "4        109  52.525797  13.314261   \n",
       "...      ...        ...        ...   \n",
       "4596   10938  52.769962  13.454593   \n",
       "4597   10939  52.611806  13.594948   \n",
       "4598   10940  52.606930  13.601930   \n",
       "4599   10946  52.734171  13.666572   \n",
       "4600   12674  52.397446  13.530343   \n",
       "\n",
       "                                               name  \n",
       "0                     Wiebestr./Huttenstr. (Berlin)  \n",
       "1                             Reuchlinstr. (Berlin)  \n",
       "2                               Neues Ufer (Berlin)  \n",
       "3                         Ilsenburger Str. (Berlin)  \n",
       "4                           Goslarer Platz (Berlin)  \n",
       "...                                             ...  \n",
       "4596                      Stolzenhagen, Stolzenfels  \n",
       "4597                        Blumberg (BAR), Gutshof  \n",
       "4598                     Blumberg (BAR), Liebigstr.  \n",
       "4599                               Danewitz, Kirche  \n",
       "4600  Schönefeld (bei Berlin), Bohnsdorfer Chaussee  \n",
       "\n",
       "[4601 rows x 4 columns]"
      ]
     },
     "execution_count": 13,
     "metadata": {},
     "output_type": "execute_result"
    }
   ],
   "source": [
    "berlin_nodes"
   ]
  },
  {
   "cell_type": "code",
   "execution_count": 3,
   "id": "df171e37",
   "metadata": {},
   "outputs": [],
   "source": [
    "berlin = convert_to_graph(berlin_df)\n",
    "helsinki = convert_to_graph(helsinki_df)"
   ]
  },
  {
   "cell_type": "markdown",
   "id": "388e61e3",
   "metadata": {},
   "source": [
    "## Connectivity"
   ]
  },
  {
   "cell_type": "code",
   "execution_count": 4,
   "id": "c4ab119b",
   "metadata": {},
   "outputs": [
    {
     "name": "stdout",
     "output_type": "stream",
     "text": [
      "False\n",
      "False\n"
     ]
    }
   ],
   "source": [
    "# For undirected graph\n",
    "print(nx.is_connected(berlin))\n",
    "print(nx.is_connected(helsinki))"
   ]
  },
  {
   "cell_type": "code",
   "execution_count": 5,
   "id": "63c74d8d",
   "metadata": {
    "scrolled": true
   },
   "outputs": [
    {
     "name": "stdout",
     "output_type": "stream",
     "text": [
      "4\n",
      "9\n"
     ]
    }
   ],
   "source": [
    "print(nx.number_connected_components(berlin))\n",
    "print(nx.number_connected_components(helsinki))"
   ]
  },
  {
   "cell_type": "markdown",
   "id": "4e0ce664",
   "metadata": {},
   "source": [
    "### Seperating connected components"
   ]
  },
  {
   "cell_type": "code",
   "execution_count": 6,
   "id": "3da72d0c",
   "metadata": {
    "scrolled": true
   },
   "outputs": [],
   "source": [
    "def get_components(city):\n",
    "    components = [city.subgraph(c).copy() for c in nx.connected_components(city)]\n",
    "    for idx, g in enumerate(components, start=1):\n",
    "        print(f\"Component {idx} | Number of nodes: {len(g.nodes)} | Number of edges: {len(g.edges)}\\n----------------------------------------------------------------\")\n",
    "        \n",
    "    return components[0]"
   ]
  },
  {
   "cell_type": "code",
   "execution_count": 7,
   "id": "6a8273a2",
   "metadata": {
    "scrolled": true
   },
   "outputs": [
    {
     "name": "stdout",
     "output_type": "stream",
     "text": [
      "Component 1 | Number of nodes: 4593 | Number of edges: 12070\n",
      "----------------------------------------------------------------\n",
      "Component 2 | Number of nodes: 4 | Number of edges: 6\n",
      "----------------------------------------------------------------\n",
      "Component 3 | Number of nodes: 2 | Number of edges: 2\n",
      "----------------------------------------------------------------\n",
      "Component 4 | Number of nodes: 2 | Number of edges: 1\n",
      "----------------------------------------------------------------\n"
     ]
    }
   ],
   "source": [
    "berlin_1 = get_components(berlin)"
   ]
  },
  {
   "cell_type": "markdown",
   "id": "f60ed9d3",
   "metadata": {},
   "source": [
    "Since the majority of nodes in the Berlin network are in component 1, we will consider that and drop the rest for further analysis."
   ]
  },
  {
   "cell_type": "code",
   "execution_count": 8,
   "id": "22f53b35",
   "metadata": {},
   "outputs": [
    {
     "name": "stdout",
     "output_type": "stream",
     "text": [
      "Component 1 | Number of nodes: 6879 | Number of edges: 8911\n",
      "----------------------------------------------------------------\n",
      "Component 2 | Number of nodes: 75 | Number of edges: 119\n",
      "----------------------------------------------------------------\n",
      "Component 3 | Number of nodes: 19 | Number of edges: 32\n",
      "----------------------------------------------------------------\n",
      "Component 4 | Number of nodes: 2 | Number of edges: 2\n",
      "----------------------------------------------------------------\n",
      "Component 5 | Number of nodes: 2 | Number of edges: 2\n",
      "----------------------------------------------------------------\n",
      "Component 6 | Number of nodes: 2 | Number of edges: 1\n",
      "----------------------------------------------------------------\n",
      "Component 7 | Number of nodes: 2 | Number of edges: 2\n",
      "----------------------------------------------------------------\n",
      "Component 8 | Number of nodes: 2 | Number of edges: 1\n",
      "----------------------------------------------------------------\n",
      "Component 9 | Number of nodes: 3 | Number of edges: 2\n",
      "----------------------------------------------------------------\n"
     ]
    }
   ],
   "source": [
    "helsinki_1 = get_components(helsinki)"
   ]
  },
  {
   "cell_type": "markdown",
   "id": "97703182",
   "metadata": {},
   "source": [
    "Since the majority of nodes in the Helsinki network are in component 1, we will consider that and drop the rest for further analysis."
   ]
  },
  {
   "cell_type": "code",
   "execution_count": 9,
   "id": "882156c1",
   "metadata": {},
   "outputs": [
    {
     "name": "stdout",
     "output_type": "stream",
     "text": [
      "True\n",
      "True\n"
     ]
    }
   ],
   "source": [
    "print(nx.is_connected(berlin_1))\n",
    "print(nx.is_connected(helsinki_1))"
   ]
  },
  {
   "cell_type": "markdown",
   "id": "ed96df42",
   "metadata": {},
   "source": [
    "## Robustness\n",
    "The ability of a network to maintain its general structural properties (like connectivity) when it faces disruptions or attacks (loses nodes or edges)."
   ]
  },
  {
   "cell_type": "code",
   "execution_count": 10,
   "id": "f85a9bb0",
   "metadata": {},
   "outputs": [
    {
     "name": "stdout",
     "output_type": "stream",
     "text": [
      "1\n",
      "1\n"
     ]
    }
   ],
   "source": [
    "# Minimum number of nodes that need to be removed to disconnect the graph\n",
    "print(nx.node_connectivity(berlin_1))\n",
    "print(nx.node_connectivity(helsinki_1))"
   ]
  },
  {
   "cell_type": "code",
   "execution_count": 14,
   "id": "cdd1dde3",
   "metadata": {},
   "outputs": [
    {
     "name": "stdout",
     "output_type": "stream",
     "text": [
      "For Berlin:\n",
      "\n",
      "Remove Node: {7334} | Station: Series([], Name: name, dtype: object)\n"
     ]
    }
   ],
   "source": [
    "# Which nodes?\n",
    "berlin_cut_node = nx.minimum_node_cut(berlin_1)\n",
    "print(berlin_cut_node)"
   ]
  },
  {
   "cell_type": "code",
   "execution_count": 31,
   "id": "fa82109d",
   "metadata": {},
   "outputs": [
    {
     "name": "stdout",
     "output_type": "stream",
     "text": [
      "For Berlin:\n",
      "\n",
      "Remove Node: {7334} | Station: Schönefeld (bei Berlin), Wehrmathen\n"
     ]
    }
   ],
   "source": [
    "berlin_cut_node_name = berlin_nodes.loc[berlin_nodes['stop_I'] == 7334]['name'].item()\n",
    "print(\"For Berlin:\\n\")\n",
    "print(f\"Remove Node: {berlin_cut_node} | Station: {berlin_cut_node_name}\")"
   ]
  },
  {
   "cell_type": "code",
   "execution_count": 34,
   "id": "e4205af4",
   "metadata": {},
   "outputs": [
    {
     "name": "stdout",
     "output_type": "stream",
     "text": [
      "{7523}\n"
     ]
    }
   ],
   "source": [
    "# Which nodes?\n",
    "helsinki_cut_node = nx.minimum_node_cut(helsinki_1)\n",
    "print(helsinki_cut_node)"
   ]
  },
  {
   "cell_type": "code",
   "execution_count": 35,
   "id": "f97cb42d",
   "metadata": {},
   "outputs": [
    {
     "name": "stdout",
     "output_type": "stream",
     "text": [
      "For helsinki:\n",
      "\n",
      "Remove Node: {7523} | Station: Talman koulu\n"
     ]
    }
   ],
   "source": [
    "helsinki_cut_node_name = helsinki_nodes.loc[helsinki_nodes['stop_I'] == 7334]['name'].item()\n",
    "print(\"For helsinki:\\n\")\n",
    "print(f\"Remove Node: {helsinki_cut_node} | Station: {helsinki_cut_node_name}\")"
   ]
  },
  {
   "cell_type": "code",
   "execution_count": 11,
   "id": "4a300e71",
   "metadata": {},
   "outputs": [
    {
     "name": "stdout",
     "output_type": "stream",
     "text": [
      "1\n",
      "1\n"
     ]
    }
   ],
   "source": [
    "# Minimum number of edges that need to be removed to disconnect the graph\n",
    "print(nx.edge_connectivity(berlin_1))\n",
    "print(nx.edge_connectivity(helsinki_1))"
   ]
  },
  {
   "cell_type": "code",
   "execution_count": 36,
   "id": "faf72197",
   "metadata": {},
   "outputs": [
    {
     "name": "stdout",
     "output_type": "stream",
     "text": [
      "{(8147, 8151)}\n",
      "{(7441, 7523)}\n"
     ]
    }
   ],
   "source": [
    "# Which edges?\n",
    "berlin_cut_edge = nx.minimum_edge_cut(berlin_1)\n",
    "print(berlin_cut_edge)\n",
    "helsinki_cut_edge = nx.minimum_edge_cut(helsinki_1)\n",
    "print(helsinki_cut_edge)"
   ]
  },
  {
   "cell_type": "code",
   "execution_count": 40,
   "id": "7ba8bb07",
   "metadata": {},
   "outputs": [
    {
     "name": "stdout",
     "output_type": "stream",
     "text": [
      "For Berlin:\n",
      "\n",
      "Remove edge: {(8147, 8151)} | Stations: ('Erkner, Friedhof', 'Erkner, Jägerstr.')\n"
     ]
    }
   ],
   "source": [
    "berlin_cut_edge_name = (berlin_nodes.loc[berlin_nodes['stop_I'] == 8147, 'name'].item(),\n",
    "                        berlin_nodes.loc[berlin_nodes['stop_I'] == 8151, 'name'].item())\n",
    "print(\"For Berlin:\\n\")\n",
    "print(f\"Remove edge: {berlin_cut_edge} | Stations: {berlin_cut_edge_name}\")"
   ]
  },
  {
   "cell_type": "code",
   "execution_count": 42,
   "id": "fb0b7f44",
   "metadata": {},
   "outputs": [
    {
     "name": "stdout",
     "output_type": "stream",
     "text": [
      "For Helsinki:\n",
      "\n",
      "Remove edge: {(7441, 7523)} | Stations: ('Mehuasema', 'Sommarnäsintie')\n"
     ]
    }
   ],
   "source": [
    "helsinki_cut_edge_name = (helsinki_nodes.loc[helsinki_nodes['stop_I'] == 7441, 'name'].item(), \n",
    "                          helsinki_nodes.loc[helsinki_nodes['stop_I'] == 7523, 'name'].item())\n",
    "print(\"For Helsinki:\\n\")\n",
    "print(f\"Remove edge: {helsinki_cut_edge} | Stations: {helsinki_cut_edge_name}\")"
   ]
  },
  {
   "cell_type": "markdown",
   "id": "5be95ddf",
   "metadata": {},
   "source": [
    "Robust networks have large minimum node and edge connectivity."
   ]
  },
  {
   "cell_type": "markdown",
   "id": "44a01449",
   "metadata": {},
   "source": [
    "## Paths from one node to another"
   ]
  },
  {
   "cell_type": "code",
   "execution_count": null,
   "id": "6464ad5c",
   "metadata": {},
   "outputs": [],
   "source": [
    "# All path options from source to sink\n",
    "sorted(nx.all_simple_paths(G, 111, 132))"
   ]
  },
  {
   "cell_type": "code",
   "execution_count": null,
   "id": "c275e08d",
   "metadata": {},
   "outputs": [],
   "source": [
    "# Number of nodes to remove to disrupt path from source to sink\n",
    "print(nx.node_connectivity(G, 111, 132))\n",
    "\n",
    "# Which nodes?\n",
    "print(nx.minimum_node_cut(G, 111, 132))"
   ]
  },
  {
   "cell_type": "code",
   "execution_count": null,
   "id": "2ef1fba2",
   "metadata": {},
   "outputs": [],
   "source": [
    "# Removing one of the nodes\n",
    "G.remove_node(389)"
   ]
  },
  {
   "cell_type": "code",
   "execution_count": null,
   "id": "244c5dd6",
   "metadata": {},
   "outputs": [],
   "source": [
    "sorted(nx.all_simple_paths(G, 111, 132))"
   ]
  },
  {
   "cell_type": "code",
   "execution_count": null,
   "id": "e283b33e",
   "metadata": {},
   "outputs": [],
   "source": [
    "# Number of edges to remove to disrupt path from source to sink\n",
    "print(nx.edge_connectivity(G, 111, 132))\n",
    "\n",
    "# Which edges?\n",
    "print(nx.minimum_edge_cut(G, 111, 132))"
   ]
  },
  {
   "cell_type": "markdown",
   "id": "2ffd99a9",
   "metadata": {},
   "source": [
    "## Local Clustering Coefficient\n",
    "Fraction of pairs of a node’s connections that are connected with each other.\n",
    "The LCC of a node of degree less than 2 is 0."
   ]
  },
  {
   "cell_type": "code",
   "execution_count": null,
   "id": "582f5590",
   "metadata": {},
   "outputs": [],
   "source": [
    "# LCC of node 2562\n",
    "nx.clustering(G, 111)"
   ]
  },
  {
   "cell_type": "markdown",
   "id": "14adb6b8",
   "metadata": {},
   "source": [
    "## Global clustering coefficient\n",
    "\n",
    "### Approach 1: \n",
    "Average the local clustering coefficient over all nodes in a graph"
   ]
  },
  {
   "cell_type": "code",
   "execution_count": null,
   "id": "c25558e9",
   "metadata": {},
   "outputs": [],
   "source": [
    "nx.average_clustering(G)"
   ]
  },
  {
   "cell_type": "markdown",
   "id": "9654175b",
   "metadata": {},
   "source": [
    "### Approach 2: \n",
    "Percentage of ‘open triads’ that are triangles in a network.\n",
    "\n",
    "Transitivity = (3*number of triangles)/number of open triads"
   ]
  },
  {
   "cell_type": "code",
   "execution_count": null,
   "id": "24c61b44",
   "metadata": {},
   "outputs": [],
   "source": [
    "nx.transitivity(G)"
   ]
  },
  {
   "cell_type": "markdown",
   "id": "58ab91a8",
   "metadata": {},
   "source": [
    "## Diatance between two nodes\n",
    "\n",
    "The length of the shortest path between them."
   ]
  },
  {
   "cell_type": "code",
   "execution_count": null,
   "id": "6e404859",
   "metadata": {},
   "outputs": [],
   "source": [
    "# Shortest path between 111 and 2087\n",
    "nx.shortest_path(G, 111, 2087)"
   ]
  },
  {
   "cell_type": "code",
   "execution_count": null,
   "id": "1e4fee96",
   "metadata": {},
   "outputs": [],
   "source": [
    "# Length of the shortest path between 111 and 2087\n",
    "nx.shortest_path_length(G, 111, 2087)"
   ]
  },
  {
   "cell_type": "markdown",
   "id": "1d7cb641",
   "metadata": {},
   "source": [
    "## Distance from a node to all the other nodes\n",
    "### 1. Breadth First Search: \n",
    "An algorithm for searching a tree data structure for a node that satisfies a given property. It starts at the tree root and explores all nodes at the present depth prior to moving on to the nodes at the next depth level."
   ]
  },
  {
   "cell_type": "code",
   "execution_count": null,
   "id": "282904bd",
   "metadata": {
    "scrolled": false
   },
   "outputs": [],
   "source": [
    "# Returns the tree graph of nodes discovered in BFS\n",
    "T = nx.bfs_tree(G, 2562)\n",
    "print(nx.shortest_path_length(T, 2562))\n",
    "nx.draw_networkx(T, with_labels=True, node_size=100, node_color='red', width=2, font_size=10)"
   ]
  },
  {
   "cell_type": "markdown",
   "id": "af82c4e7",
   "metadata": {},
   "source": [
    "## Distance Measures\n",
    "\n",
    "### 1. Average distance\n",
    "between all pairs of nodes in the graph"
   ]
  },
  {
   "cell_type": "code",
   "execution_count": null,
   "id": "ec5b9272",
   "metadata": {},
   "outputs": [],
   "source": [
    "nx.average_shortest_path_length(T) # Note: graph must be connected"
   ]
  },
  {
   "cell_type": "markdown",
   "id": "eb3dbe0c",
   "metadata": {},
   "source": [
    "### 2. Diameter\n",
    "Maximum distance between any pair of nodes"
   ]
  },
  {
   "cell_type": "code",
   "execution_count": null,
   "id": "a19c7af0",
   "metadata": {},
   "outputs": [],
   "source": [
    "# x.diameter(G) # Note: Graph must be strongly connected"
   ]
  },
  {
   "cell_type": "markdown",
   "id": "5ca4ca47",
   "metadata": {},
   "source": [
    "### 3. Eccentricity of a node\n",
    "Largest distance between a node and all the pther nodes"
   ]
  },
  {
   "cell_type": "code",
   "execution_count": null,
   "id": "df94af8d",
   "metadata": {},
   "outputs": [],
   "source": [
    "# nx.eccentricity(G) # Note: Graph must be strongly connected"
   ]
  },
  {
   "cell_type": "markdown",
   "id": "0b56df53",
   "metadata": {},
   "source": [
    "### 4. Radius\n",
    "It is the minimum eccentricity"
   ]
  },
  {
   "cell_type": "code",
   "execution_count": null,
   "id": "294eda6a",
   "metadata": {},
   "outputs": [],
   "source": [
    "# nx.radius(G) # Note: Graph must be strongly connected"
   ]
  },
  {
   "cell_type": "markdown",
   "id": "c848a827",
   "metadata": {},
   "source": [
    "### 5. Periphery\n",
    "The set of nodes that have eccentricity equal to diameter (nodes that are on the outskirts of a graph)"
   ]
  },
  {
   "cell_type": "code",
   "execution_count": null,
   "id": "17392c52",
   "metadata": {},
   "outputs": [],
   "source": [
    "# nx.periphery(G) # Note: Graph must be strongly connected"
   ]
  },
  {
   "cell_type": "markdown",
   "id": "8314d321",
   "metadata": {},
   "source": [
    "### 6. Center\n",
    "The set of nodes have eccentricity equal to the radius (nodes that are in the center of the graph)"
   ]
  },
  {
   "cell_type": "code",
   "execution_count": null,
   "id": "5dda5e7a",
   "metadata": {},
   "outputs": [],
   "source": [
    "# nx.center(G) # Note: Graph must be strongly connected"
   ]
  },
  {
   "cell_type": "code",
   "execution_count": null,
   "id": "bb795b76",
   "metadata": {},
   "outputs": [],
   "source": []
  },
  {
   "cell_type": "code",
   "execution_count": null,
   "id": "e0df1e9e",
   "metadata": {
    "ExecuteTime": {
     "end_time": "2023-05-15T17:32:47.650400300Z",
     "start_time": "2023-05-15T17:32:47.573634700Z"
    },
    "scrolled": false
   },
   "outputs": [],
   "source": [
    "stats = pd.read_csv('network_data/berlin/stats.csv', sep=';')\n",
    "stats = stats.transpose()\n",
    "stats"
   ]
  },
  {
   "cell_type": "code",
   "execution_count": null,
   "id": "bdfc7046",
   "metadata": {},
   "outputs": [],
   "source": [
    "draw_nodes_on_map(berlin_nodes)"
   ]
  }
 ],
 "metadata": {
  "kernelspec": {
   "display_name": "Python 3 (ipykernel)",
   "language": "python",
   "name": "python3"
  },
  "language_info": {
   "codemirror_mode": {
    "name": "ipython",
    "version": 3
   },
   "file_extension": ".py",
   "mimetype": "text/x-python",
   "name": "python",
   "nbconvert_exporter": "python",
   "pygments_lexer": "ipython3",
   "version": "3.8.16"
  }
 },
 "nbformat": 4,
 "nbformat_minor": 5
}
